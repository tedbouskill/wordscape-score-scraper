{
 "cells": [
  {
   "cell_type": "markdown",
   "metadata": {},
   "source": [
    "# Common Functionality for all Repository Notebooks\n",
    "\n",
    "Rerun setup() in any notebook that includes this notebook to reload new files"
   ]
  },
  {
   "cell_type": "code",
   "execution_count": 7,
   "metadata": {},
   "outputs": [
    {
     "name": "stdout",
     "output_type": "stream",
     "text": [
      "/Users/tedbouskill/Repos/MyGitHub/wordscape-score-scraper/.venv/bin/python\n",
      "3.11.11 | packaged by conda-forge | (main, Dec  5 2024, 14:24:23) [Clang 18.1.8 ]\n"
     ]
    }
   ],
   "source": [
    "from json import load\n",
    "import sys\n",
    "print(sys.executable)\n",
    "print(sys.version)\n",
    "\n",
    "import os\n",
    "import fnmatch\n",
    "import re\n",
    "import xml\n",
    "\n",
    "from pathlib import Path\n",
    "\n",
    "files = []\n",
    "\n",
    "def _find_files(directory, pattern='.png'):\n",
    "    path = Path(directory)\n",
    "    if (not path.exists()):\n",
    "        print(f\"Directory {directory} does not exist\")\n",
    "        return []\n",
    "    files = [str(file) for file in path.rglob('*') if fnmatch.fnmatch(file.suffix.lower(), pattern.lower())]\n",
    "    return files\n",
    "\n",
    "def _load_files(project_dir, pattern='.png'):\n",
    "    directory = os.path.join(os.getcwd(), project_dir)\n",
    "    print(f\"Looking for files in {directory}\")\n",
    "    files = _find_files(directory, pattern)\n",
    "    return files\n",
    "\n",
    "def setup():\n",
    "    print(\"Common Files Setup()\")\n",
    "    return _load_files('../png_samples')"
   ]
  },
  {
   "cell_type": "markdown",
   "metadata": {},
   "source": [
    "## Reload Packages\n",
    "\n",
    "You can call reload_packages() in any notebook that includes this notebook to reload the packages in repo_packages or workspace_packages"
   ]
  },
  {
   "cell_type": "code",
   "execution_count": 8,
   "metadata": {},
   "outputs": [],
   "source": [
    "import importlib\n",
    "\n",
    "# From repo_packages\n",
    "import cls_env_config as EnvConfigClass\n",
    "import cls_env_tools as EnvToolsClass\n",
    "import cls_img_tools as ImgToolsClass\n",
    "\n",
    "#from workspace_packages\n",
    "\n",
    "def reload_packages():\n",
    "    print(\"Reloading packages\")\n",
    "    importlib.reload(EnvConfigClass)\n",
    "    importlib.reload(EnvToolsClass)\n",
    "    importlib.reload(ImgToolsClass)\n"
   ]
  },
  {
   "cell_type": "code",
   "execution_count": 9,
   "metadata": {},
   "outputs": [
    {
     "name": "stdout",
     "output_type": "stream",
     "text": [
      "Common Files Setup()\n",
      "Looking for files in /Users/tedbouskill/Repos/MyGitHub/wordscape-score-scraper/prototypes/../png_samples\n",
      "Number of files found: 9\n"
     ]
    }
   ],
   "source": [
    "files = setup()\n",
    "\n",
    "print(f\"Number of files found: {len(files)}\")"
   ]
  }
 ],
 "metadata": {
  "kernelspec": {
   "display_name": ".venv",
   "language": "python",
   "name": "python3"
  },
  "language_info": {
   "codemirror_mode": {
    "name": "ipython",
    "version": 3
   },
   "file_extension": ".py",
   "mimetype": "text/x-python",
   "name": "python",
   "nbconvert_exporter": "python",
   "pygments_lexer": "ipython3",
   "version": "3.11.11"
  }
 },
 "nbformat": 4,
 "nbformat_minor": 2
}
